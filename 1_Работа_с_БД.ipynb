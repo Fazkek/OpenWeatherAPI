{
  "cells": [
    {
      "cell_type": "markdown",
      "metadata": {
        "id": "view-in-github",
        "colab_type": "text"
      },
      "source": [
        "<a href=\"https://colab.research.google.com/github/Fazkek/OpenWeatherAPI/blob/main/1_%D0%A0%D0%B0%D0%B1%D0%BE%D1%82%D0%B0_%D1%81_%D0%91%D0%94.ipynb\" target=\"_parent\"><img src=\"https://colab.research.google.com/assets/colab-badge.svg\" alt=\"Open In Colab\"/></a>"
      ]
    },
    {
      "cell_type": "markdown",
      "metadata": {
        "id": "rPZNC7rKqdpA"
      },
      "source": [
        "# Подключение к базам данных"
      ]
    },
    {
      "cell_type": "markdown",
      "metadata": {
        "id": "qFqMsat6qdpC"
      },
      "source": [
        "SQLite - самая простая база данных, к которой можно подключиться с помощью Python. По умолчанию стандартная библиотека Python уже содержит модуль sqlite3 и для работы не требуется устанавливать какие-либо внешние модули. Кроме того, SQLite база данных не требует сервера. Она просто читает и записывает данные в файл. Подключимся с помощью sqlite3 к базе данных:"
      ]
    },
    {
      "cell_type": "code",
      "execution_count": 1,
      "metadata": {
        "id": "Jg18GXnSqdpD"
      },
      "outputs": [],
      "source": [
        "import sqlite3\n",
        "from sqlite3 import Error\n",
        "\n",
        "def create_connection(path):\n",
        "    connection = None\n",
        "    try:\n",
        "        connection = sqlite3.connect(path)\n",
        "        print(\"Connection to SQLite DB successful\")\n",
        "    except Error as e:\n",
        "        print(f\"The error '{e}' occurred\")\n",
        "\n",
        "    return connection"
      ]
    },
    {
      "cell_type": "markdown",
      "metadata": {
        "id": "DVFCU9rxqdpE"
      },
      "source": [
        "Код работает следующим образом:\n",
        "\n",
        "Строки 1 и 2 – импорт sqlite3 и класса Error.\n",
        "Строка 4 определяет функцию create_connection(), которая принимает путь к базе данных SQLite.\n",
        "Строка 7 использует метод connect() и принимает в качестве параметра путь к базе данных SQLite. Если база данных в указанном месте существует, будет установлено соединение. В противном случае по указанному пути будет создана новая база данных и так же установлено соединение.\n",
        "В строке 8 выводится состояние успешного подключения к базе данных.\n",
        "Строка 9 перехватывает любое исключение, которое может быть получено, если методу .connect() не удастся установить соединение.\n",
        "В строке 10 отображается сообщение об ошибке в консоли.\n",
        "sqlite3.connect(path) возвращает объект connection. Этот объект может использоваться для выполнения запросов к базе данных SQLite. Следующий скрипт формирует соединение с базой данных SQLite:"
      ]
    },
    {
      "cell_type": "code",
      "execution_count": 2,
      "metadata": {
        "colab": {
          "base_uri": "https://localhost:8080/"
        },
        "id": "Ry1S4bzwqdpE",
        "outputId": "fa9b6d71-bffe-439b-c6cf-716feba3dbea"
      },
      "outputs": [
        {
          "output_type": "stream",
          "name": "stdout",
          "text": [
            "Connection to SQLite DB successful\n"
          ]
        }
      ],
      "source": [
        "path = \"MasterMargarita.sqlite\"\n",
        "connection = create_connection(path)"
      ]
    },
    {
      "cell_type": "markdown",
      "metadata": {
        "id": "UmAMUOVFqdpF"
      },
      "source": [
        "Выполнив вышеуказанный скрипт, вы увидите, как в указанной папке появится файл базы данных MasterMargarita.sqlite. "
      ]
    },
    {
      "cell_type": "markdown",
      "metadata": {
        "id": "Vp56ma3CqdpF"
      },
      "source": [
        "# Создание таблиц"
      ]
    },
    {
      "cell_type": "markdown",
      "metadata": {
        "id": "6MI53HbIqdpF"
      },
      "source": [
        "В данном разделе изучается формирование таблицы внутри базы данных. Нужно получить и связать четыре таблицы: users, fragments, keywords, emotions.\n",
        "\n",
        "Таблица users будет содержать данные об асессорах, которые занимаются разметкой книги.\n",
        "Таблица fragments будет содержить фрагменты книги, размеченные асессорами, а также дополнительную информацию для данных фрагментов. Например, если фрагмены искались для конкретного персонажа или связанного ключевого слова.\n",
        "Таблица keywords будет содержать инфомацию о ключевых словах - список их синонимов и эмоции, с ними связанные.\n",
        "Таблица emotions будет содержать конкретные эмоции, связывающие асессора и размеченные им фрагменты.\n",
        "\n",
        "Для работы с базами данных - создания и заполнения таблиц, выполнения запросов, управления обновлением и удалением строк - в SQLite используется метод cursor.execute(). В этом разделе мы определим функцию execute_query(), которая использует этот метод. Функция будет принимать объект connection и строку запроса. Далее строка запроса будет передаваться методу execute( ). В этом разделе он будет использоваться для формирования таблиц, а в следующих – мы применим его для выполнения запросов на обновление и удаление.\n",
        "\n",
        "Все, что нужно сделать, это сохранить запрос в строковой переменной и затем передать эту переменную cursor.execute().\n",
        "\n",
        "Итак, начнем с определения функции execute_query():"
      ]
    },
    {
      "cell_type": "code",
      "execution_count": 3,
      "metadata": {
        "id": "2N2EJRyYqdpF"
      },
      "outputs": [],
      "source": [
        "def execute_query(connection, query):\n",
        "    cursor = connection.cursor()\n",
        "    try:\n",
        "        cursor.execute(query)\n",
        "        connection.commit()\n",
        "        print(\"Query executed successfully\")\n",
        "    except Error as e:\n",
        "        print(f\"The error '{e}' occurred\")"
      ]
    },
    {
      "cell_type": "markdown",
      "metadata": {
        "id": "42FttcsLqdpG"
      },
      "source": [
        "Теперь напишем передаваемый запрос (query):"
      ]
    },
    {
      "cell_type": "code",
      "execution_count": 4,
      "metadata": {
        "id": "oxekkY0uqdpG"
      },
      "outputs": [],
      "source": [
        "create_users_table = \"\"\"\n",
        "CREATE TABLE IF NOT EXISTS users (\n",
        "  id INTEGER PRIMARY KEY AUTOINCREMENT,\n",
        "  name TEXT NOT NULL,\n",
        "  surname TEXT NOT NULL,\n",
        "  age INTEGER,\n",
        "  gender TEXT,\n",
        "  school TEXT,\n",
        "  class INTEGER\n",
        ");\n",
        "\"\"\""
      ]
    },
    {
      "cell_type": "markdown",
      "metadata": {
        "id": "Jn5ZgICaqdpG"
      },
      "source": [
        "В запросе говорится, что нужно создать таблицу users со следующими столбцами: id, name, surname, age, gender, school, class. Чтобы появилась таблица, вызываем execute_query(). \n",
        "\n",
        "Можно ли записать школу INTEGER, а класс TEXT?\n",
        "Добавьте в таблицу ещё два поля - город (обязательное) и год заполнения таблицы (обязательное).\n",
        "\n",
        "Передаём объект connection, который мы описали в предыдущем разделе, вместе с только что подготовленной строкой запроса create_users_table:"
      ]
    },
    {
      "cell_type": "code",
      "execution_count": 5,
      "metadata": {
        "colab": {
          "base_uri": "https://localhost:8080/"
        },
        "id": "nlUwtmo8qdpG",
        "outputId": "037b07bb-ef21-4d08-a947-680ada02b2b4"
      },
      "outputs": [
        {
          "output_type": "stream",
          "name": "stdout",
          "text": [
            "Query executed successfully\n"
          ]
        }
      ],
      "source": [
        "execute_query(connection, create_users_table)"
      ]
    },
    {
      "cell_type": "markdown",
      "metadata": {
        "id": "YhMPrOXXqdpH"
      },
      "source": [
        "Теперь составим таблицу с описанием фрагментов текста. Здесь укажем, из какой главы взят фрагмент (chapter), внесем его в таблицу (content). Также добавим два необязательных поля: герой (hero) и слово (word), если фрагмент специально выбирался для характеристики героя или какого-то слова. Возможно также сочетание героя и слова, связанного с ним.\n",
        "Следующий запрос используется для создания таблицы fragments:"
      ]
    },
    {
      "cell_type": "code",
      "execution_count": 6,
      "metadata": {
        "id": "9I1R_JGsqdpH"
      },
      "outputs": [],
      "source": [
        "create_fragments_table = \"\"\"\n",
        "CREATE TABLE IF NOT EXISTS fragments(\n",
        "  id INTEGER PRIMARY KEY AUTOINCREMENT, \n",
        "  chapter INTEGER NOT NULL, \n",
        "  content TEXT NOT NULL,\n",
        "  hero TEXT, \n",
        "  word TEXT,\n",
        "  user_id INTEGER NOT NULL, \n",
        "  FOREIGN KEY (user_id) REFERENCES users (id)\n",
        ");\n",
        "\"\"\""
      ]
    },
    {
      "cell_type": "markdown",
      "metadata": {
        "id": "gg4nwIg6qdpH"
      },
      "source": [
        "Поскольку асессор может анализировать несколько фрагментов, между users и fragments имеет место отношение один-ко-многим. Поэтому в таблице появляется ключ user_id, который ссылается на столбец id в таблице users. Выполняем следующий скрипт для построения таблицы fragments:"
      ]
    },
    {
      "cell_type": "code",
      "execution_count": 7,
      "metadata": {
        "colab": {
          "base_uri": "https://localhost:8080/"
        },
        "id": "eMUP3_zuqdpH",
        "outputId": "c3bdac5e-c55e-48cb-fe09-768e385164ce"
      },
      "outputs": [
        {
          "output_type": "stream",
          "name": "stdout",
          "text": [
            "Query executed successfully\n"
          ]
        }
      ],
      "source": [
        "execute_query(connection, create_fragments_table)"
      ]
    },
    {
      "cell_type": "markdown",
      "metadata": {
        "id": "QSsQGHasqdpH"
      },
      "source": [
        "Перейдем к таблице ключевых слов keywords. Ключевые слова связаны с определенным фрагментом. Заметим, что слово, относительно которого мы ищем фрагмент, если работаем по схеме разметки \"Поиск слова\" и ключевое слово, которое мы выделяем в фрагменте - это разные понятия. Поэтому и в базе данных они находятся в разных конструкциях. \n",
        "\n",
        "Ключевое слово содержит поля: ключевой идентификатор (id), название ключевого слова (title), возможные синонимы (synonyms), возможную эмоцию (word_emotion), а также поля, связанные с другими таблицами - user_id и fragment_id. Заметим, что выделять ключевые слова во фрагменте может не тот же пользователь, который выделил сам фрагмент. Так ли это в данной таблице?\n",
        "\n",
        "Формируем следующим скриптом таблицу keywords:"
      ]
    },
    {
      "cell_type": "code",
      "execution_count": 8,
      "metadata": {
        "colab": {
          "base_uri": "https://localhost:8080/"
        },
        "id": "-U7bZTL5qdpI",
        "outputId": "3dc11f07-45fe-4b69-9f21-1d7f8ebc08bd"
      },
      "outputs": [
        {
          "output_type": "stream",
          "name": "stdout",
          "text": [
            "Query executed successfully\n"
          ]
        }
      ],
      "source": [
        "create_keywords_table = \"\"\"\n",
        "CREATE TABLE IF NOT EXISTS keywords (\n",
        "  id INTEGER PRIMARY KEY AUTOINCREMENT, \n",
        "  title TEXT NOT NULL, \n",
        "  synonyms TEXT,\n",
        "  word_emotion TEXT,\n",
        "  user_id INTEGER NOT NULL, \n",
        "  fragment_id INTEGER NOT NULL, \n",
        "  FOREIGN KEY (user_id) REFERENCES users (id) \n",
        "  FOREIGN KEY (fragment_id) REFERENCES fragment (id)\n",
        ");\n",
        "\"\"\"\n",
        "\n",
        "execute_query(connection, create_keywords_table)"
      ]
    },
    {
      "cell_type": "markdown",
      "metadata": {
        "id": "1A-nwQLSqdpI"
      },
      "source": [
        "Далее перейдем к таблице эмоций. Каждая эмоция определяется пользователем. Эмоции могут иметь синонимы, их желательно перечислить в поле synonyms. Для каждой эмоции необходимо указать, она берется из базовой модели на 8 эмоций (base) или пользовательской (users). Если указана пользовательская модель, то необходимо добавить описание модели, поэтому в качестве задания необходимо модель вынести в отдельную таблицу и подумать, какие поля для нее необходимы. "
      ]
    },
    {
      "cell_type": "code",
      "execution_count": 9,
      "metadata": {
        "colab": {
          "base_uri": "https://localhost:8080/"
        },
        "id": "XFlkUmSGqdpI",
        "outputId": "9d085327-1268-4200-c99c-369262425b4a"
      },
      "outputs": [
        {
          "output_type": "stream",
          "name": "stdout",
          "text": [
            "Query executed successfully\n"
          ]
        }
      ],
      "source": [
        "create_emotions_table = \"\"\"\n",
        "CREATE TABLE IF NOT EXISTS emotions (\n",
        "  id INTEGER PRIMARY KEY AUTOINCREMENT, \n",
        "  name TEXT NOT NULL,\n",
        "  user_id INTEGER NOT NULL, \n",
        "  fragment_id INTEGER NOT NULL, \n",
        "  FOREIGN KEY (user_id) REFERENCES users (id) FOREIGN KEY (fragment_id) REFERENCES fragment (id)\n",
        ");\n",
        "\"\"\"\n",
        "\n",
        "execute_query(connection, create_emotions_table)"
      ]
    },
    {
      "cell_type": "markdown",
      "metadata": {
        "id": "oKXQzVzgqdpI"
      },
      "source": [
        "# Вставка записей"
      ]
    },
    {
      "cell_type": "markdown",
      "metadata": {
        "id": "c-213CiUqdpI"
      },
      "source": [
        "В этом разделе мы узнаем, как вставлять записи. \n",
        "\n",
        "Чтобы вставить записи в базу данных SQLite, мы можем использовать ту же execute_query() функцию, что и для создания таблиц. Для этого сначала нужно сохранить в виде строки запрос INSERT INTO. Затем нужно передать объект connection и строковый запрос в execute_query(). Вставим для примера пять записей в таблицу users:"
      ]
    },
    {
      "cell_type": "code",
      "execution_count": 10,
      "metadata": {
        "colab": {
          "base_uri": "https://localhost:8080/"
        },
        "id": "1W8bdG-BqdpJ",
        "outputId": "ea9a0ea7-e1bd-4c72-e477-90a0c382991c"
      },
      "outputs": [
        {
          "output_type": "stream",
          "name": "stdout",
          "text": [
            "Query executed successfully\n"
          ]
        }
      ],
      "source": [
        "create_users = \"\"\"\n",
        "INSERT INTO\n",
        "  users (name, surname, age, gender, school, class)\n",
        "VALUES\n",
        "  ('Иван', 'Петров', 15, 'male', 'МБОУ «СОШ №8»', 9),\n",
        "  ('Елена', 'Сахарова', 12, 'female', 'МБОУ «СЭЛ № 45»', 7),\n",
        "  ('Борис', 'Романенко', 13, 'male', 'МАОУ «Школа «Липовая роща»', 8),\n",
        "  ('Михаил', 'Степанов', 14, 'male', 'МБОУ «СОШ №35»', 12),\n",
        "  ('Елизавета', 'Куликовская', 11, 'female', 'МБОУ «Гимназия №6 им. Габдуллы Тукая»', 17);\n",
        "\"\"\"\n",
        "\n",
        "execute_query(connection, create_users) "
      ]
    },
    {
      "cell_type": "markdown",
      "metadata": {
        "id": "NR4xnpMQqdpJ"
      },
      "source": [
        "Поскольку мы установили автоинкремент для столбца id, нам не нужно указывать его дополнительно. Таблица users будет автоматически заполнена пятью записями со значениями id от 1 до 5.\n",
        "\n",
        "Вставим в таблицу fragments три записи. Для наглядности фрагментами будут небольше предложения."
      ]
    },
    {
      "cell_type": "code",
      "execution_count": 11,
      "metadata": {
        "colab": {
          "base_uri": "https://localhost:8080/"
        },
        "id": "jUV8su9HqdpJ",
        "outputId": "083da707-7319-4a80-d836-8ea55d53c799"
      },
      "outputs": [
        {
          "output_type": "stream",
          "name": "stdout",
          "text": [
            "Query executed successfully\n"
          ]
        }
      ],
      "source": [
        "create_fragments = \"\"\"\n",
        "INSERT INTO\n",
        "  fragments (chapter, content, hero, word, user_id)\n",
        "VALUES\n",
        "  (4, \"Поэт бросился бежать к турникету, как только услыхал первый вопль, и видел, как голова подскакивала на мостовой.\", \" \", \" \", 1),\n",
        "  (21, \"Лишь только Маргарита коснулась влажной травы, музыка под вербами ударила сильнее, и веселее взлетел сноп искр из костра.\", \"Маргарита\", \" \", 5),\n",
        "  (17, \"— Нету, — отвечал бухгалтер, все более бледнея и разводя руками.\", \" \", \"рука\", 3);\n",
        "\"\"\"\n",
        "\n",
        "execute_query(connection, create_fragments)"
      ]
    },
    {
      "cell_type": "markdown",
      "metadata": {
        "id": "QmNPhAqpqdpJ"
      },
      "source": [
        "Необходимо добавить поле эмоция в таблицу фрагмент?\n",
        "\n",
        "Важно отметить, что столбец user_id таблицы fragments является внешним ключом, который ссылается на столбец таблицы users. Это означает, что столбец user_id должен содержать значение, которое уже существует в столбце id таблицы users. Если его не существует, мы получим сообщение об ошибке.\n",
        "\n",
        "Следующий скрипт вставляет записи в таблицы keywords и emotions:"
      ]
    },
    {
      "cell_type": "code",
      "execution_count": 12,
      "metadata": {
        "colab": {
          "base_uri": "https://localhost:8080/"
        },
        "id": "_u3FaeoSqdpJ",
        "outputId": "59d2c972-55fb-45cf-a5ad-6ddcb4d6dbee"
      },
      "outputs": [
        {
          "output_type": "stream",
          "name": "stdout",
          "text": [
            "Query executed successfully\n",
            "Query executed successfully\n"
          ]
        }
      ],
      "source": [
        "create_keywords = \"\"\"\n",
        "INSERT INTO\n",
        "  keywords (title, synonyms, word_emotion, user_id, fragment_id)\n",
        "VALUES\n",
        "  ('голова', \"\", \"страх\", 1, 1),\n",
        "  ('костер', \"огонь, пламя\", \"радость\", 5, 2),\n",
        "  ('трава', \"\", \"радость\", 4, 2),\n",
        "  ('рука', \"ладонь\", \"страх\", 4, 3),\n",
        "  ('бледность', \"бледнеть\", \"страх\", 2, 3),\n",
        "  ('музыка', \"\", \"радость\", 3, 2);\n",
        "\"\"\"\n",
        "\n",
        "create_emotions = \"\"\"\n",
        "INSERT INTO\n",
        "  emotions (name, user_id, fragment_id)\n",
        "VALUES\n",
        "  (\"страх\", 4, 1),\n",
        "  (\"радость\", 2, 2),\n",
        "  (\"страх\", 1, 3);\n",
        "\"\"\"\n",
        "\n",
        "execute_query(connection, create_keywords)\n",
        "execute_query(connection, create_emotions)  "
      ]
    },
    {
      "cell_type": "markdown",
      "metadata": {
        "id": "ER6dbojkqdpK"
      },
      "source": [
        "# Извлечение данных из записей"
      ]
    },
    {
      "cell_type": "markdown",
      "metadata": {
        "id": "Zygsu0q7qdpK"
      },
      "source": [
        "Чтобы выбрать записи в SQLite, можно снова использовать cursor.execute(). Однако после этого потребуется вызвать метод курсора fetchall(). Этот метод возвращает список кортежей, где каждый кортеж сопоставлен с соответствующей строкой в извлеченных записях. Чтобы упростить процесс, напишем функцию execute_read_query():"
      ]
    },
    {
      "cell_type": "code",
      "execution_count": 13,
      "metadata": {
        "id": "E08aoJE4qdpK"
      },
      "outputs": [],
      "source": [
        "def execute_read_query(connection, query):\n",
        "    cursor = connection.cursor()\n",
        "    result = None\n",
        "    try:\n",
        "        cursor.execute(query)\n",
        "        result = cursor.fetchall()\n",
        "        return result\n",
        "    except Error as e:\n",
        "        print(f\"The error '{e}' occurred\")"
      ]
    },
    {
      "cell_type": "markdown",
      "metadata": {
        "id": "9fDqA6V5qdpK"
      },
      "source": [
        "Эта функция принимает объект connection и SELECT-запрос, а возвращает выбранную запись.\n",
        "\n",
        "1. Давайте выберем все записи из таблицы users:"
      ]
    },
    {
      "cell_type": "code",
      "execution_count": 14,
      "metadata": {
        "colab": {
          "base_uri": "https://localhost:8080/"
        },
        "id": "WSIzszjuqdpK",
        "outputId": "8d06f902-364d-43a9-deea-941d3d3fe525"
      },
      "outputs": [
        {
          "output_type": "stream",
          "name": "stdout",
          "text": [
            "(1, 'Иван', 'Петров', 15, 'male', 'МБОУ «СОШ №8»', 9)\n",
            "(2, 'Елена', 'Сахарова', 12, 'female', 'МБОУ «СЭЛ № 45»', 7)\n",
            "(3, 'Борис', 'Романенко', 13, 'male', 'МАОУ «Школа «Липовая роща»', 8)\n",
            "(4, 'Михаил', 'Степанов', 14, 'male', 'МБОУ «СОШ №35»', 12)\n",
            "(5, 'Елизавета', 'Куликовская', 11, 'female', 'МБОУ «Гимназия №6 им. Габдуллы Тукая»', 17)\n"
          ]
        }
      ],
      "source": [
        "select_users = \"SELECT * from users\"\n",
        "users = execute_read_query(connection, select_users)\n",
        "\n",
        "for user in users:\n",
        "    print(user)"
      ]
    },
    {
      "cell_type": "markdown",
      "metadata": {
        "id": "Ejm31uISqdpK"
      },
      "source": [
        "В приведенном выше скрипте запрос SELECT забирает всех пользователей из таблицы users. Результат передается в написанную нами функцию execute_read_query(), возвращающую все записи из таблицы users.\n",
        "\n",
        "Примечание. Не рекомендуется использовать SELECT * для больших таблиц, так как это может привести к большому числу операций ввода-вывода, которые увеличивают сетевой трафик.\n",
        "\n",
        "2. Таким же образом вы можете извлечь все записи из таблицы fragments:"
      ]
    },
    {
      "cell_type": "code",
      "execution_count": 15,
      "metadata": {
        "colab": {
          "base_uri": "https://localhost:8080/"
        },
        "id": "PsBAUxLKqdpL",
        "outputId": "bb705656-2361-4539-b66e-af2bcc2f67ac"
      },
      "outputs": [
        {
          "output_type": "stream",
          "name": "stdout",
          "text": [
            "(1, 4, 'Поэт бросился бежать к турникету, как только услыхал первый вопль, и видел, как голова подскакивала на мостовой.', ' ', ' ', 1)\n",
            "(2, 21, 'Лишь только Маргарита коснулась влажной травы, музыка под вербами ударила сильнее, и веселее взлетел сноп искр из костра.', 'Маргарита', ' ', 5)\n",
            "(3, 17, '— Нету, — отвечал бухгалтер, все более бледнея и разводя руками.', ' ', 'рука', 3)\n"
          ]
        }
      ],
      "source": [
        "select_fragments = \"SELECT * FROM fragments\"\n",
        "fragments = execute_read_query(connection, select_fragments)\n",
        "\n",
        "for fragment in fragments:\n",
        "    print(fragment)"
      ]
    },
    {
      "cell_type": "markdown",
      "metadata": {
        "id": "lskW7y_VqdpL"
      },
      "source": [
        "3. Посмотрим также на таблицу keywords"
      ]
    },
    {
      "cell_type": "code",
      "execution_count": 16,
      "metadata": {
        "colab": {
          "base_uri": "https://localhost:8080/"
        },
        "id": "BHLdVtsRqdpL",
        "outputId": "a7e627f2-1644-4fc2-a9b3-62e5040a2050"
      },
      "outputs": [
        {
          "output_type": "stream",
          "name": "stdout",
          "text": [
            "(1, 'голова', '', 'страх', 1, 1)\n",
            "(2, 'костер', 'огонь, пламя', 'радость', 5, 2)\n",
            "(3, 'трава', '', 'радость', 4, 2)\n",
            "(4, 'рука', 'ладонь', 'страх', 4, 3)\n",
            "(5, 'бледность', 'бледнеть', 'страх', 2, 3)\n",
            "(6, 'музыка', '', 'радость', 3, 2)\n"
          ]
        }
      ],
      "source": [
        "select_keywords = \"SELECT * FROM keywords\"\n",
        "keywords = execute_read_query(connection, select_keywords)\n",
        "\n",
        "for keyword in keywords:\n",
        "    print(keyword)"
      ]
    },
    {
      "cell_type": "markdown",
      "metadata": {
        "id": "vMPt6-HfqdpL"
      },
      "source": [
        "4. Вы также можете выполнять более сложные запросы, включающие операции типа JOIN для извлечения данных из двух связанных таблиц. Например, следующий скрипт возвращает идентификаторы и имена пользователей, а также описание фрагментов, размеченных этими пользователями:"
      ]
    },
    {
      "cell_type": "code",
      "execution_count": 17,
      "metadata": {
        "colab": {
          "base_uri": "https://localhost:8080/"
        },
        "id": "q8YL4XRkqdpL",
        "outputId": "f3bc7761-89af-41b4-8164-e57e328f9f8a"
      },
      "outputs": [
        {
          "output_type": "stream",
          "name": "stdout",
          "text": [
            "(1, 'Иван', 'Поэт бросился бежать к турникету, как только услыхал первый вопль, и видел, как голова подскакивала на мостовой.')\n",
            "(5, 'Елизавета', 'Лишь только Маргарита коснулась влажной травы, музыка под вербами ударила сильнее, и веселее взлетел сноп искр из костра.')\n",
            "(3, 'Борис', '— Нету, — отвечал бухгалтер, все более бледнея и разводя руками.')\n"
          ]
        }
      ],
      "source": [
        "select_users_fragments = \"\"\"\n",
        "SELECT\n",
        "  users.id,\n",
        "  users.name,\n",
        "  fragments.content\n",
        "FROM\n",
        "  fragments\n",
        "  INNER JOIN users ON users.id = fragments.user_id\n",
        "\"\"\"\n",
        "\n",
        "users_fragments = execute_read_query(connection, select_users_fragments)\n",
        "\n",
        "for users_fragment in users_fragments:\n",
        "    print(users_fragment)"
      ]
    },
    {
      "cell_type": "markdown",
      "metadata": {
        "id": "ev8R7h5qqdpM"
      },
      "source": [
        "6. Следующий скрипт возвращает все фрагменты вместе с ключевыми словами и именами пользователей, которые разметили ключевые слова:"
      ]
    },
    {
      "cell_type": "code",
      "execution_count": 18,
      "metadata": {
        "colab": {
          "base_uri": "https://localhost:8080/"
        },
        "id": "fIUWQgEsqdpM",
        "outputId": "8272eed7-43cd-48b9-8348-9ff64129874a"
      },
      "outputs": [
        {
          "output_type": "stream",
          "name": "stdout",
          "text": [
            "('Поэт бросился бежать к турникету, как только услыхал первый вопль, и видел, как голова подскакивала на мостовой.', 'голова', 'Иван')\n",
            "('Лишь только Маргарита коснулась влажной травы, музыка под вербами ударила сильнее, и веселее взлетел сноп искр из костра.', 'костер', 'Елизавета')\n",
            "('Лишь только Маргарита коснулась влажной травы, музыка под вербами ударила сильнее, и веселее взлетел сноп искр из костра.', 'трава', 'Михаил')\n",
            "('— Нету, — отвечал бухгалтер, все более бледнея и разводя руками.', 'рука', 'Михаил')\n",
            "('— Нету, — отвечал бухгалтер, все более бледнея и разводя руками.', 'бледность', 'Елена')\n",
            "('Лишь только Маргарита коснулась влажной травы, музыка под вербами ударила сильнее, и веселее взлетел сноп искр из костра.', 'музыка', 'Борис')\n"
          ]
        }
      ],
      "source": [
        "select_fragments_keywords_users = \"\"\"\n",
        "SELECT\n",
        "  fragments.content as fragment,\n",
        "  title as key,\n",
        "  name\n",
        "FROM\n",
        "  fragments\n",
        "  INNER JOIN keywords ON fragments.id = keywords.fragment_id\n",
        "  INNER JOIN users ON users.id = keywords.user_id\n",
        "\"\"\"\n",
        "\n",
        "fragments_keywords_users = execute_read_query(\n",
        "    connection, select_fragments_keywords_users)\n",
        "\n",
        "for fragments_keywords_user in fragments_keywords_users:\n",
        "    print(fragments_keywords_user)"
      ]
    },
    {
      "cell_type": "markdown",
      "metadata": {
        "id": "I3fHbWSnqdpM"
      },
      "source": [
        "Из вывода понятно, что имена столбцов не были возвращены методом fetchall(). Чтобы вернуть имена столбцов, нужно забрать атрибут description объекта cursor. \n",
        "7. Например, следующий список возвращает все имена столбцов для вышеуказанного запроса:"
      ]
    },
    {
      "cell_type": "code",
      "execution_count": 19,
      "metadata": {
        "colab": {
          "base_uri": "https://localhost:8080/"
        },
        "id": "kBifs2COqdpM",
        "outputId": "8412bbaf-a985-4fb9-cf46-dc7738a239e2"
      },
      "outputs": [
        {
          "output_type": "stream",
          "name": "stdout",
          "text": [
            "['fragment', 'key', 'name']\n"
          ]
        }
      ],
      "source": [
        "cursor = connection.cursor()\n",
        "cursor.execute(select_fragments_keywords_users)\n",
        "cursor.fetchall()\n",
        "\n",
        "column_names = [content[0] for content in cursor.description]\n",
        "print(column_names)"
      ]
    },
    {
      "cell_type": "markdown",
      "metadata": {
        "id": "CAociT3LqdpM"
      },
      "source": [
        "Используя запрос WHERE, вы можете возвращать более конкретные результаты. \n",
        "8. Выполним SELECT-запрос, который возвращает текст фрагмента и общее количество его оценок:"
      ]
    },
    {
      "cell_type": "code",
      "execution_count": 20,
      "metadata": {
        "colab": {
          "base_uri": "https://localhost:8080/"
        },
        "id": "Oab6Z-PXqdpM",
        "outputId": "2a2249c2-a66e-4e0b-fb6c-369a42d8c3bc"
      },
      "outputs": [
        {
          "output_type": "stream",
          "name": "stdout",
          "text": [
            "('Поэт бросился бежать к турникету, как только услыхал первый вопль, и видел, как голова подскакивала на мостовой.', 1)\n",
            "('Лишь только Маргарита коснулась влажной травы, музыка под вербами ударила сильнее, и веселее взлетел сноп искр из костра.', 1)\n",
            "('— Нету, — отвечал бухгалтер, все более бледнея и разводя руками.', 1)\n"
          ]
        }
      ],
      "source": [
        "select_fragment_emotions = \"\"\"\n",
        "SELECT\n",
        "  content as Post,\n",
        "  COUNT(emotions.id) as Emotions\n",
        "FROM\n",
        "  emotions,\n",
        "  fragments\n",
        "WHERE\n",
        "  fragments.id = emotions.fragment_id\n",
        "GROUP BY\n",
        "  emotions.fragment_id\n",
        "\"\"\"\n",
        "\n",
        "fragment_emotions = execute_read_query(connection, select_fragment_emotions)\n",
        "\n",
        "for fragment_emotion in fragment_emotions:\n",
        "    print(fragment_emotion)"
      ]
    },
    {
      "cell_type": "markdown",
      "metadata": {
        "id": "Cr7D7lvdqdpN"
      },
      "source": [
        "# Обновление и удаление записей таблицы"
      ]
    },
    {
      "cell_type": "markdown",
      "metadata": {
        "id": "KOrogwuPqdpN"
      },
      "source": [
        "Обновление записей в SQLite выглядит довольно просто. Снова можно применить execute_query(). В качестве примера обновим текст поста с id равным 2. Сначала создадим описание для SELECT:"
      ]
    },
    {
      "cell_type": "code",
      "execution_count": 21,
      "metadata": {
        "colab": {
          "base_uri": "https://localhost:8080/"
        },
        "id": "CFEZILdjqdpN",
        "outputId": "65484c21-1582-46bb-a161-38cc62c4e58a"
      },
      "outputs": [
        {
          "output_type": "stream",
          "name": "stdout",
          "text": [
            "('Лишь только Маргарита коснулась влажной травы, музыка под вербами ударила сильнее, и веселее взлетел сноп искр из костра.',)\n"
          ]
        }
      ],
      "source": [
        "select_fragment_content = \"\"\"\n",
        "SELECT content FROM fragments WHERE id = 2\n",
        "\"\"\"\n",
        "\n",
        "fragment_content = execute_read_query(connection, select_fragment_content)\n",
        "\n",
        "for content in fragment_content:\n",
        "    print(content)"
      ]
    },
    {
      "cell_type": "markdown",
      "metadata": {
        "id": "8RU1VLCGqdpN"
      },
      "source": [
        "Следующий скрипт обновит описание:"
      ]
    },
    {
      "cell_type": "code",
      "execution_count": 22,
      "metadata": {
        "colab": {
          "base_uri": "https://localhost:8080/"
        },
        "id": "yohcczLEqdpN",
        "outputId": "110b50a5-bb04-49d5-b544-0fd2e4d27f0d"
      },
      "outputs": [
        {
          "output_type": "stream",
          "name": "stdout",
          "text": [
            "Query executed successfully\n"
          ]
        }
      ],
      "source": [
        "update_fragment_content = \"\"\"\n",
        "UPDATE\n",
        "  fragments\n",
        "SET\n",
        "  content = \"Но дальнейшее уже не интересовало Маргариту. Прицелившись, чтобы не задеть за какой-нибудь провод, она покрепче сжала щетку и в мгновение оказалась выше злополучного дома.\"\n",
        "WHERE\n",
        "  id = 2\n",
        "\"\"\"\n",
        "\n",
        "execute_query(connection, update_fragment_content)"
      ]
    },
    {
      "cell_type": "markdown",
      "metadata": {
        "id": "NJs6l4xvqdpN"
      },
      "source": [
        "Повторим запрос"
      ]
    },
    {
      "cell_type": "code",
      "execution_count": 23,
      "metadata": {
        "colab": {
          "base_uri": "https://localhost:8080/"
        },
        "id": "8WAhDXB0qdpO",
        "outputId": "a2b7995c-60de-415b-ee43-6269cb40d7af"
      },
      "outputs": [
        {
          "output_type": "stream",
          "name": "stdout",
          "text": [
            "('Но дальнейшее уже не интересовало Маргариту. Прицелившись, чтобы не задеть за какой-нибудь провод, она покрепче сжала щетку и в мгновение оказалась выше злополучного дома.',)\n"
          ]
        }
      ],
      "source": [
        "select_fragment_content = \"\"\"\n",
        "SELECT content FROM fragments WHERE id = 2\n",
        "\"\"\"\n",
        "\n",
        "fragment_content = execute_read_query(connection, select_fragment_content)\n",
        "\n",
        "for content in fragment_content:\n",
        "    print(content)"
      ]
    },
    {
      "cell_type": "markdown",
      "metadata": {
        "id": "r-TyhEoYqdpO"
      },
      "source": [
        "В качестве примера удалим ключевое слово с id равным 5:"
      ]
    },
    {
      "cell_type": "code",
      "execution_count": 24,
      "metadata": {
        "colab": {
          "base_uri": "https://localhost:8080/"
        },
        "id": "VYoVMSvlqdpO",
        "outputId": "205be586-fa24-437f-e8af-5309e644ffd5"
      },
      "outputs": [
        {
          "output_type": "stream",
          "name": "stdout",
          "text": [
            "Query executed successfully\n"
          ]
        }
      ],
      "source": [
        "delete_keyword = \"DELETE FROM keywords WHERE id = 5\"\n",
        "execute_query(connection, delete_keyword)"
      ]
    },
    {
      "cell_type": "markdown",
      "metadata": {
        "id": "xd5j_sJqqdpO"
      },
      "source": [
        "Посмотрим, как выглядит таблица"
      ]
    },
    {
      "cell_type": "code",
      "execution_count": 25,
      "metadata": {
        "colab": {
          "base_uri": "https://localhost:8080/"
        },
        "id": "L5ncA49iqdpO",
        "outputId": "da3f7663-a204-41bf-96a0-6fc953622ac4"
      },
      "outputs": [
        {
          "output_type": "stream",
          "name": "stdout",
          "text": [
            "(1, 'голова', '', 'страх', 1, 1)\n",
            "(2, 'костер', 'огонь, пламя', 'радость', 5, 2)\n",
            "(3, 'трава', '', 'радость', 4, 2)\n",
            "(4, 'рука', 'ладонь', 'страх', 4, 3)\n",
            "(6, 'музыка', '', 'радость', 3, 2)\n"
          ]
        }
      ],
      "source": [
        "select_keywords = \"SELECT * FROM keywords\"\n",
        "keywords = execute_read_query(connection, select_keywords)\n",
        "\n",
        "for keyword in keywords:\n",
        "    print(keyword)"
      ]
    },
    {
      "cell_type": "code",
      "execution_count": 26,
      "metadata": {
        "id": "jgL-CkDYqdpO"
      },
      "outputs": [],
      "source": [
        "connection.close()"
      ]
    }
  ],
  "metadata": {
    "kernelspec": {
      "display_name": "Python 3",
      "language": "python",
      "name": "python3"
    },
    "language_info": {
      "codemirror_mode": {
        "name": "ipython",
        "version": 3
      },
      "file_extension": ".py",
      "mimetype": "text/x-python",
      "name": "python",
      "nbconvert_exporter": "python",
      "pygments_lexer": "ipython3",
      "version": "3.7.4"
    },
    "colab": {
      "provenance": [],
      "include_colab_link": true
    }
  },
  "nbformat": 4,
  "nbformat_minor": 0
}